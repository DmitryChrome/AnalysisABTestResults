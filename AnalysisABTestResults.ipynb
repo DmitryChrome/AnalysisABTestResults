{
 "cells": [
  {
   "attachments": {},
   "cell_type": "markdown",
   "id": "c8a6af25-08d3-487a-bd90-001772ac9161",
   "metadata": {},
   "source": [
    "## <center> **Анализ результатов A/B-тестирования**\n",
    "____"
   ]
  },
  {
   "cell_type": "code",
   "execution_count": 1,
   "id": "a974b482-e192-4014-8520-8a5c0c946da6",
   "metadata": {},
   "outputs": [
    {
     "name": "stderr",
     "output_type": "stream",
     "text": [
      "c:\\Users\\Dmitriy Chuprinko\\AppData\\Local\\Programs\\Python\\Python39\\lib\\site-packages\\numpy\\_distributor_init.py:30: UserWarning: loaded more than 1 DLL from .libs:\n",
      "c:\\Users\\Dmitriy Chuprinko\\AppData\\Local\\Programs\\Python\\Python39\\lib\\site-packages\\numpy\\.libs\\libopenblas.EL2C6PLE4ZYW3ECEVIV3OXXGRN2NRFM2.gfortran-win_amd64.dll\n",
      "c:\\Users\\Dmitriy Chuprinko\\AppData\\Local\\Programs\\Python\\Python39\\lib\\site-packages\\numpy\\.libs\\libopenblas.FB5AE2TYXYH2IJRDKGDGQ3XBKLKTF43H.gfortran-win_amd64.dll\n",
      "  warnings.warn(\"loaded more than 1 DLL from .libs:\"\n"
     ]
    }
   ],
   "source": [
    "import pandas as pd\n",
    "import matplotlib.pyplot as plt\n",
    "import seaborn as sns\n",
    "from scipy.stats import norm\n",
    "from scipy.stats import t\n",
    "from scipy.stats import ttest_ind, shapiro, f_oneway, mannwhitneyu\n",
    "from statsmodels.stats.proportion import proportions_ztest"
   ]
  },
  {
   "attachments": {},
   "cell_type": "markdown",
   "id": "e099916a",
   "metadata": {},
   "source": [
    "## <center> 1. Анализ структуры данных и их предобработка"
   ]
  },
  {
   "attachments": {},
   "cell_type": "markdown",
   "id": "55c84550-4162-4325-acc2-7d3c0aafe6f0",
   "metadata": {},
   "source": [
    "Прочитаем наши данные и посмотрим на столбцы таблицы:"
   ]
  },
  {
   "cell_type": "code",
   "execution_count": 2,
   "id": "b0d18245-b9da-44bd-8aea-d272ea74b63a",
   "metadata": {},
   "outputs": [
    {
     "data": {
      "text/html": [
       "<div>\n",
       "<style scoped>\n",
       "    .dataframe tbody tr th:only-of-type {\n",
       "        vertical-align: middle;\n",
       "    }\n",
       "\n",
       "    .dataframe tbody tr th {\n",
       "        vertical-align: top;\n",
       "    }\n",
       "\n",
       "    .dataframe thead th {\n",
       "        text-align: right;\n",
       "    }\n",
       "</style>\n",
       "<table border=\"1\" class=\"dataframe\">\n",
       "  <thead>\n",
       "    <tr style=\"text-align: right;\">\n",
       "      <th></th>\n",
       "      <th>user_id</th>\n",
       "      <th>date</th>\n",
       "      <th>group</th>\n",
       "      <th>purchase</th>\n",
       "      <th>price</th>\n",
       "    </tr>\n",
       "  </thead>\n",
       "  <tbody>\n",
       "    <tr>\n",
       "      <th>0</th>\n",
       "      <td>851104</td>\n",
       "      <td>2021-01-21</td>\n",
       "      <td>A</td>\n",
       "      <td>0</td>\n",
       "      <td>0</td>\n",
       "    </tr>\n",
       "    <tr>\n",
       "      <th>1</th>\n",
       "      <td>804228</td>\n",
       "      <td>2021-01-12</td>\n",
       "      <td>A</td>\n",
       "      <td>0</td>\n",
       "      <td>0</td>\n",
       "    </tr>\n",
       "    <tr>\n",
       "      <th>2</th>\n",
       "      <td>661590</td>\n",
       "      <td>2021-01-11</td>\n",
       "      <td>B</td>\n",
       "      <td>0</td>\n",
       "      <td>0</td>\n",
       "    </tr>\n",
       "    <tr>\n",
       "      <th>3</th>\n",
       "      <td>853541</td>\n",
       "      <td>2021-01-08</td>\n",
       "      <td>B</td>\n",
       "      <td>0</td>\n",
       "      <td>0</td>\n",
       "    </tr>\n",
       "    <tr>\n",
       "      <th>4</th>\n",
       "      <td>864975</td>\n",
       "      <td>2021-01-21</td>\n",
       "      <td>A</td>\n",
       "      <td>1</td>\n",
       "      <td>150000</td>\n",
       "    </tr>\n",
       "  </tbody>\n",
       "</table>\n",
       "</div>"
      ],
      "text/plain": [
       "   user_id        date group  purchase   price\n",
       "0   851104  2021-01-21     A         0       0\n",
       "1   804228  2021-01-12     A         0       0\n",
       "2   661590  2021-01-11     B         0       0\n",
       "3   853541  2021-01-08     B         0       0\n",
       "4   864975  2021-01-21     A         1  150000"
      ]
     },
     "execution_count": 2,
     "metadata": {},
     "output_type": "execute_result"
    }
   ],
   "source": [
    "data = pd.read_csv('data/ab_data_tourist.csv')\n",
    "data.head()"
   ]
  },
  {
   "attachments": {},
   "cell_type": "markdown",
   "id": "2fc48225-26ac-49c4-b99d-8b2a03dd74a1",
   "metadata": {
    "tags": []
   },
   "source": [
    "Начнем с исследования структуры наших данных. Выведем информацию о типах данных и количестве непустых значений."
   ]
  },
  {
   "cell_type": "code",
   "execution_count": 3,
   "id": "23496521-4878-46e2-ab02-1a98be14884a",
   "metadata": {},
   "outputs": [
    {
     "name": "stdout",
     "output_type": "stream",
     "text": [
      "<class 'pandas.core.frame.DataFrame'>\n",
      "RangeIndex: 294478 entries, 0 to 294477\n",
      "Data columns (total 5 columns):\n",
      " #   Column    Non-Null Count   Dtype \n",
      "---  ------    --------------   ----- \n",
      " 0   user_id   294478 non-null  int64 \n",
      " 1   date      294478 non-null  object\n",
      " 2   group     294478 non-null  object\n",
      " 3   purchase  294478 non-null  int64 \n",
      " 4   price     294478 non-null  int64 \n",
      "dtypes: int64(3), object(2)\n",
      "memory usage: 11.2+ MB\n"
     ]
    }
   ],
   "source": [
    "data.info()"
   ]
  },
  {
   "attachments": {},
   "cell_type": "markdown",
   "id": "946d017d-b4fe-4a17-b91d-0ce369d1ab2e",
   "metadata": {
    "tags": []
   },
   "source": [
    "Приведём столбец *date* к типу данных `datetime`. Убедимся в равной длительности проведения тестирования для каждой из групп. Для этого сгруппируем данные по признаку группы и определим первую и последнюю дату наблюдения для каждой из групп. Посмотрим в какой промежуток времени проводился **A/B-тест**."
   ]
  },
  {
   "cell_type": "code",
   "execution_count": 4,
   "id": "604c619d-6338-45c8-8248-ac098a2366bb",
   "metadata": {},
   "outputs": [
    {
     "data": {
      "text/html": [
       "<div>\n",
       "<style scoped>\n",
       "    .dataframe tbody tr th:only-of-type {\n",
       "        vertical-align: middle;\n",
       "    }\n",
       "\n",
       "    .dataframe tbody tr th {\n",
       "        vertical-align: top;\n",
       "    }\n",
       "\n",
       "    .dataframe thead th {\n",
       "        text-align: right;\n",
       "    }\n",
       "</style>\n",
       "<table border=\"1\" class=\"dataframe\">\n",
       "  <thead>\n",
       "    <tr style=\"text-align: right;\">\n",
       "      <th></th>\n",
       "      <th>min</th>\n",
       "      <th>max</th>\n",
       "    </tr>\n",
       "    <tr>\n",
       "      <th>group</th>\n",
       "      <th></th>\n",
       "      <th></th>\n",
       "    </tr>\n",
       "  </thead>\n",
       "  <tbody>\n",
       "    <tr>\n",
       "      <th>A</th>\n",
       "      <td>2021-01-02</td>\n",
       "      <td>2021-01-24</td>\n",
       "    </tr>\n",
       "    <tr>\n",
       "      <th>B</th>\n",
       "      <td>2021-01-02</td>\n",
       "      <td>2021-01-24</td>\n",
       "    </tr>\n",
       "  </tbody>\n",
       "</table>\n",
       "</div>"
      ],
      "text/plain": [
       "             min        max\n",
       "group                      \n",
       "A     2021-01-02 2021-01-24\n",
       "B     2021-01-02 2021-01-24"
      ]
     },
     "metadata": {},
     "output_type": "display_data"
    }
   ],
   "source": [
    "# Приводим стобец с датой к типу данных datetime\n",
    "data['date'] = pd.to_datetime(data['date'], format='%Y-%m-%d')\n",
    "\n",
    "# Отображаем минимальное и максимальное значение в дате, чтобы узнать начало и конец тестирования\n",
    "display(data.groupby(['group'])['date'].agg(['min', 'max']))"
   ]
  },
  {
   "attachments": {},
   "cell_type": "markdown",
   "id": "e04eb341-52ae-48b3-9dc2-0578ca91641a",
   "metadata": {},
   "source": [
    "Посмотрим:\n",
    "* Чему равно количество посещений сайта в группах А и B.\n",
    "\n",
    "* Чему равно суммарное количество покупок в группах А и B.\n",
    "\n",
    "* Чему равна сумма всех покупок в группах А и B."
   ]
  },
  {
   "cell_type": "code",
   "execution_count": 5,
   "id": "02bf0148-488e-4f34-95bf-37794b2fa98b",
   "metadata": {},
   "outputs": [
    {
     "data": {
      "text/html": [
       "<div>\n",
       "<style scoped>\n",
       "    .dataframe tbody tr th:only-of-type {\n",
       "        vertical-align: middle;\n",
       "    }\n",
       "\n",
       "    .dataframe tbody tr th {\n",
       "        vertical-align: top;\n",
       "    }\n",
       "\n",
       "    .dataframe thead th {\n",
       "        text-align: right;\n",
       "    }\n",
       "</style>\n",
       "<table border=\"1\" class=\"dataframe\">\n",
       "  <thead>\n",
       "    <tr style=\"text-align: right;\">\n",
       "      <th></th>\n",
       "      <th>user_id</th>\n",
       "      <th>purchase</th>\n",
       "      <th>price</th>\n",
       "    </tr>\n",
       "    <tr>\n",
       "      <th>group</th>\n",
       "      <th></th>\n",
       "      <th></th>\n",
       "      <th></th>\n",
       "    </tr>\n",
       "  </thead>\n",
       "  <tbody>\n",
       "    <tr>\n",
       "      <th>A</th>\n",
       "      <td>147202</td>\n",
       "      <td>17723</td>\n",
       "      <td>1436260000</td>\n",
       "    </tr>\n",
       "    <tr>\n",
       "      <th>B</th>\n",
       "      <td>147276</td>\n",
       "      <td>17514</td>\n",
       "      <td>1554100000</td>\n",
       "    </tr>\n",
       "  </tbody>\n",
       "</table>\n",
       "</div>"
      ],
      "text/plain": [
       "       user_id  purchase       price\n",
       "group                               \n",
       "A       147202     17723  1436260000\n",
       "B       147276     17514  1554100000"
      ]
     },
     "execution_count": 5,
     "metadata": {},
     "output_type": "execute_result"
    }
   ],
   "source": [
    "data.groupby(['group']).agg({'user_id' : 'count', 'purchase' : 'sum', 'price' : 'sum'})"
   ]
  },
  {
   "attachments": {},
   "cell_type": "markdown",
   "id": "2434db1b-17e6-4977-8e54-1df875c6f221",
   "metadata": {
    "tags": []
   },
   "source": [
    "Проверим, есть ли пользователи, которые в процессе **A/B-теста** попали в обе тестовые группы. Выведем уникальное число таких пользователей. Для этого создадим множество пользователей *группы А* и множество пользователей *группы B*. Пересечём два этих множества (операция `intersection`) и вычислим количество элементов в полученном множестве.\n"
   ]
  },
  {
   "cell_type": "code",
   "execution_count": 6,
   "id": "57a2d711-057d-4f8b-9f56-df0f772d41c8",
   "metadata": {},
   "outputs": [
    {
     "name": "stdout",
     "output_type": "stream",
     "text": [
      "1895\n"
     ]
    }
   ],
   "source": [
    "# Создаём множества с id пользователями\n",
    "set_a = set(data[data['group'] == 'A']['user_id'])\n",
    "set_b = set(data[data['group'] == 'B']['user_id'])\n",
    "\n",
    "# Ищем пересечения\n",
    "user_intersection = set_a.intersection(set_b)\n",
    "\n",
    "# Длинна получившегося множества\n",
    "print(len(user_intersection))"
   ]
  },
  {
   "attachments": {},
   "cell_type": "markdown",
   "id": "118b1904-7d7a-4935-825e-535da45c611b",
   "metadata": {
    "tags": []
   },
   "source": [
    "Исключим пользователей, оказавшихся в обеих группах.  \n",
    "Так как мы не можем определить, какая из версий сайта повлияла на принятие решения, исключим этих пользователей.  \n",
    "Далее мы будем работать только с очищенными от пересечений данными."
   ]
  },
  {
   "cell_type": "code",
   "execution_count": 7,
   "id": "f618b34b-35a3-4bf1-8d6d-38b3401930b7",
   "metadata": {},
   "outputs": [],
   "source": [
    "updated_data = data[data['user_id'].apply(lambda x: x not in user_intersection)]"
   ]
  },
  {
   "attachments": {},
   "cell_type": "markdown",
   "id": "2bce6c9a-6580-4250-b280-204d40d20da2",
   "metadata": {},
   "source": [
    "`user_intersection` - множество пересечений пользователей *групп А и B*."
   ]
  },
  {
   "attachments": {},
   "cell_type": "markdown",
   "id": "1a9bdb7f",
   "metadata": {},
   "source": [
    "## <center> 2. Первичный анализ результатов A/B-тестирования"
   ]
  },
  {
   "attachments": {
    "95f235d2-6323-4799-bf69-697fc57f727b.png": {
     "image/png": "[encoded data removed]"
    }
   },
   "cell_type": "markdown",
   "id": "2ddf6b2c-7987-41f3-82b1-8992630ae97b",
   "metadata": {
    "tags": []
   },
   "source": [
    "Для первичного анализа результатов **A/B-тестирования** нам понадобится таблица следующего вида:\n",
    "\n",
    "![image.png](attachment:95f235d2-6323-4799-bf69-697fc57f727b.png)\n",
    " \n",
    " \n",
    "Для того, чтобы получить такую таблицу, сгруппируем данные по признаку группы. В каждой группе рассчитаем следующие показатели:\n",
    "* количество посещений (количество пользователей)\n",
    "* количество совершенных покупок\n",
    "* сумма всех покупок в группе\n",
    "\n",
    "В полученной сгруппированной таблице переименуем столбцы на *count_visits*, *count_purchases* и *sum_price*.\n",
    "\n",
    "Для переименования столбцов можно использовать метод `rename()` с параметром `columns`, в который передается словарь. Ключи этого словаря - старые имена столбцов, а значения - новые.\n",
    "\n",
    "Посмотрим чему на этот раз равно количество посещений сайта в *группах А и B*."
   ]
  },
  {
   "cell_type": "code",
   "execution_count": 8,
   "id": "5c0c018e-a250-48e9-b72a-e3c7be586ebd",
   "metadata": {},
   "outputs": [
    {
     "data": {
      "text/html": [
       "<div>\n",
       "<style scoped>\n",
       "    .dataframe tbody tr th:only-of-type {\n",
       "        vertical-align: middle;\n",
       "    }\n",
       "\n",
       "    .dataframe tbody tr th {\n",
       "        vertical-align: top;\n",
       "    }\n",
       "\n",
       "    .dataframe thead th {\n",
       "        text-align: right;\n",
       "    }\n",
       "</style>\n",
       "<table border=\"1\" class=\"dataframe\">\n",
       "  <thead>\n",
       "    <tr style=\"text-align: right;\">\n",
       "      <th></th>\n",
       "      <th>count_visits</th>\n",
       "      <th>count_purchases</th>\n",
       "      <th>sum_price</th>\n",
       "    </tr>\n",
       "    <tr>\n",
       "      <th>group</th>\n",
       "      <th></th>\n",
       "      <th></th>\n",
       "      <th></th>\n",
       "    </tr>\n",
       "  </thead>\n",
       "  <tbody>\n",
       "    <tr>\n",
       "      <th>A</th>\n",
       "      <td>145307</td>\n",
       "      <td>17487</td>\n",
       "      <td>1417780000</td>\n",
       "    </tr>\n",
       "    <tr>\n",
       "      <th>B</th>\n",
       "      <td>145381</td>\n",
       "      <td>17290</td>\n",
       "      <td>1533010000</td>\n",
       "    </tr>\n",
       "  </tbody>\n",
       "</table>\n",
       "</div>"
      ],
      "text/plain": [
       "       count_visits  count_purchases   sum_price\n",
       "group                                           \n",
       "A            145307            17487  1417780000\n",
       "B            145381            17290  1533010000"
      ]
     },
     "metadata": {},
     "output_type": "display_data"
    }
   ],
   "source": [
    "# Группируем и переименовываем данные по группам, отражая количество посещений, количество продаж и общую сумму.\n",
    "group_data = updated_data.groupby(['group']).agg(\n",
    "    {'user_id' : 'count',\n",
    "    'purchase' : 'sum',\n",
    "    'price' : 'sum'}\n",
    ").rename(columns={'user_id':'count_visits', 'purchase':'count_purchases', 'price':'sum_price'})\n",
    "\n",
    "display(group_data)"
   ]
  },
  {
   "attachments": {},
   "cell_type": "markdown",
   "id": "b71e1390-9846-4a8e-b357-f82b847d1952",
   "metadata": {},
   "source": [
    "Приведём **промежуточные выводы** по построенной таблице. Ответим на следующие вопросы: сопоставимо ли количество посещений обоих вариантов посадочной странице? Можно ли говорить о сбалансированности выборок?\n",
    "\n",
    "После **исключения** пользователей оказавшихся в обеих группах разница в количестве посещений немного <u>увеличилась</u>. Поскольку эта разница совсем мала и менее 10%, что видно \"невооруженным\" взглядом, можно считать, что наши выборки <u>сбалансированы</u>.\n",
    "____"
   ]
  },
  {
   "attachments": {},
   "cell_type": "markdown",
   "id": "afb2ee0a-31d1-45a5-be42-a2bf168b9448",
   "metadata": {
    "tags": []
   },
   "source": [
    "Добавим в сгруппированную таблицу столбцы *conversion* - **конверсия** покупки (отношение количества покупок к количеству посещений сайта в каждой группе, выраженное в процентах) и *mean_check* - **средний чек** (отношение суммы покупок к количеству покупок в каждой группе). Посмотрим чему равны эти метрики в группах."
   ]
  },
  {
   "cell_type": "code",
   "execution_count": null,
   "id": "bd9c3b3e-5956-41a8-bae0-43693f6de1f2",
   "metadata": {},
   "outputs": [
    {
     "name": "stdout",
     "output_type": "stream",
     "text": [
      "group\n",
      "A    12.03\n",
      "B    11.89\n",
      "Name: conversion, dtype: float64\n",
      "group\n",
      "A    81076.0\n",
      "B    88665.0\n",
      "Name: mean_check, dtype: float64\n"
     ]
    }
   ],
   "source": [
    "# Добавляем признаки с конверсией и средним чеком\n",
    "group_data['conversion'] = group_data['count_purchases'] / group_data['count_visits']*100\n",
    "group_data['mean_check'] = group_data['sum_price'] / group_data['count_purchases']\n",
    "\n",
    "print(round(group_data['conversion'], 2))\n",
    "print(round(group_data['mean_check']))"
   ]
  },
  {
   "attachments": {},
   "cell_type": "markdown",
   "id": "1eb6e140-c702-43e0-b301-9914a7f49448",
   "metadata": {},
   "source": [
    "Сделаем **промежуточные выводы** по таблице о эффективности показателях в группах.  \n",
    "После добавления новых признаков становится наглядно видно, что **конверсия** *группы А* незначительно <u>выше</u> *группы В*, но **средний чек** контрольной группы немного <u>уступает</u> тестовой. Количество посещений *группы В* хоть и чуть <u>выше</u> *группы А*, колличество продаж <u>ниже</u>."
   ]
  },
  {
   "attachments": {},
   "cell_type": "markdown",
   "id": "23026c07",
   "metadata": {},
   "source": [
    "## <center> 3. Анализ данных на предмет стабилизации метрик"
   ]
  },
  {
   "attachments": {},
   "cell_type": "markdown",
   "id": "7f9f1ae0-f12f-49b3-8b57-1c299c208c49",
   "metadata": {
    "tags": []
   },
   "source": [
    "Теперь давайте сравним варианты по покупательской способности туров. Для этого построим сводную таблицу, которая покажет зависимость количества продаж от группы и цены тура. "
   ]
  },
  {
   "cell_type": "code",
   "execution_count": 10,
   "id": "78d46a02-cc30-4783-9b18-9fc9c6a08012",
   "metadata": {},
   "outputs": [
    {
     "data": {
      "text/html": [
       "<div>\n",
       "<style scoped>\n",
       "    .dataframe tbody tr th:only-of-type {\n",
       "        vertical-align: middle;\n",
       "    }\n",
       "\n",
       "    .dataframe tbody tr th {\n",
       "        vertical-align: top;\n",
       "    }\n",
       "\n",
       "    .dataframe thead th {\n",
       "        text-align: right;\n",
       "    }\n",
       "</style>\n",
       "<table border=\"1\" class=\"dataframe\">\n",
       "  <thead>\n",
       "    <tr style=\"text-align: right;\">\n",
       "      <th>price</th>\n",
       "      <th>10000</th>\n",
       "      <th>60000</th>\n",
       "      <th>100000</th>\n",
       "      <th>150000</th>\n",
       "      <th>200000</th>\n",
       "    </tr>\n",
       "    <tr>\n",
       "      <th>group</th>\n",
       "      <th></th>\n",
       "      <th></th>\n",
       "      <th></th>\n",
       "      <th></th>\n",
       "      <th></th>\n",
       "    </tr>\n",
       "  </thead>\n",
       "  <tbody>\n",
       "    <tr>\n",
       "      <th>A</th>\n",
       "      <td>5182</td>\n",
       "      <td>5271</td>\n",
       "      <td>1832</td>\n",
       "      <td>3478</td>\n",
       "      <td>1724</td>\n",
       "    </tr>\n",
       "    <tr>\n",
       "      <th>B</th>\n",
       "      <td>5201</td>\n",
       "      <td>1730</td>\n",
       "      <td>5227</td>\n",
       "      <td>3438</td>\n",
       "      <td>1694</td>\n",
       "    </tr>\n",
       "  </tbody>\n",
       "</table>\n",
       "</div>"
      ],
      "text/plain": [
       "price  10000   60000   100000  150000  200000\n",
       "group                                        \n",
       "A        5182    5271    1832    3478    1724\n",
       "B        5201    1730    5227    3438    1694"
      ]
     },
     "execution_count": 10,
     "metadata": {},
     "output_type": "execute_result"
    }
   ],
   "source": [
    "pivot = updated_data[updated_data['price'] > 0].pivot_table(\n",
    "    index='group', \n",
    "    columns='price', \n",
    "    values='purchase', \n",
    "    aggfunc='sum'\n",
    ")\n",
    "pivot"
   ]
  },
  {
   "attachments": {},
   "cell_type": "markdown",
   "id": "977423ed-8f8d-475c-b773-621edd95338d",
   "metadata": {},
   "source": [
    "Визуализируем полученную сводную таблицу с помощью **тепловой карты** с аннотацией для наглядности."
   ]
  },
  {
   "cell_type": "code",
   "execution_count": 11,
   "id": "f634fa8d-585c-42e3-b7d5-78e8d9eaa8c5",
   "metadata": {},
   "outputs": [
    {
     "data": {
      "image/png": "[encoded data removed]",
      "text/plain": [
       "<Figure size 720x288 with 2 Axes>"
      ]
     },
     "metadata": {
      "needs_background": "light"
     },
     "output_type": "display_data"
    }
   ],
   "source": [
    "fig = plt.figure(figsize=(10, 4))\n",
    "ax = sns.heatmap(pivot, fmt='.0f', annot=True, cmap='viridis');\n",
    "ax.set_title('Тепловая карта покупательской способности туров в группах');"
   ]
  },
  {
   "attachments": {},
   "cell_type": "markdown",
   "id": "6d13fd45-e3df-468f-9d32-1fc45d38b10c",
   "metadata": {},
   "source": [
    "**Вывод** по графику: существенное отличие в покупательской способности между группами по турам в *Турцию* и *Таиланд*. В *группе А* <u>высокий</u> спрос на *Турцию*, а в *группе В* на *Таиланд*. По остальным турам показатели очень <u>схожие</u>.\n",
    "____"
   ]
  },
  {
   "attachments": {},
   "cell_type": "markdown",
   "id": "8f021fb4-d0f6-4e43-b518-1a96c07a4531",
   "metadata": {
    "tags": []
   },
   "source": [
    "Настало время поговорить о стабилизации кумулятивных метрик во времени. Но прежде, чем перейти к кумулятивным метрикам, нам необходимо построить таблицу с ежедневными данными результатов проведения **A/B-тестирования**.\n",
    "\n",
    "Сгруппируем данные по дате и группе тестирования. В каждой группе вычислим количество посещений страницы, количество покупок и сумму покупок. \n",
    "\n",
    "Добавим в таблицу информацию о ежедневной **конверсии** (ежедневное количество покупок / ежедневное количество посещений) в группе и ежедневном **среднем чеке** (ежедневная сумма покупок / ежедневное количество покупок)."
   ]
  },
  {
   "cell_type": "code",
   "execution_count": 12,
   "id": "4503b528-412e-433a-bc03-da7da52fa1a3",
   "metadata": {},
   "outputs": [
    {
     "name": "stdout",
     "output_type": "stream",
     "text": [
      "2    11.34\n",
      "3    11.39\n",
      "Name: conversion, dtype: float64\n",
      "2    82888.0\n",
      "3    87480.0\n",
      "Name: mean_check, dtype: float64\n"
     ]
    }
   ],
   "source": [
    "# Группируем данные по группам и дате\n",
    "daily_data = updated_data.groupby(['date', 'group'], as_index=False).agg(\n",
    "    {'user_id' : 'count',\n",
    "    'purchase' : 'sum',\n",
    "    'price' : 'sum'}\n",
    ").rename(columns={'user_id':'count_visits', 'purchase':'count_purchases', 'price':'sum_price'})\n",
    "\n",
    "# Добавляем признаки с конверсией и средним чеком\n",
    "daily_data['conversion'] = daily_data['count_purchases'] / daily_data['count_visits']*100\n",
    "daily_data['mean_check'] = daily_data['sum_price'] / daily_data['count_purchases']"
   ]
  },
  {
   "attachments": {},
   "cell_type": "markdown",
   "id": "bc8e241b-1ef1-4f67-ab90-77251889b7f2",
   "metadata": {},
   "source": [
    "Добавим в таблицу с ежедневными показателями **кумулятивные признаки**:\n",
    "* кумулятивное количество посещений страницы\n",
    "* кумулятивное количество покупок\n",
    "* кумулятивную сумму покупок\n",
    "\n",
    "При расчете кумулятивной суммы сгруппируем данные по группам.\n",
    "\n",
    "Вычислим кумулятивную конверсию и кумулятивный средний чек на основе полученных кумулятивных показателей."
   ]
  },
  {
   "cell_type": "code",
   "execution_count": 13,
   "id": "9c2e0a00",
   "metadata": {},
   "outputs": [
    {
     "name": "stdout",
     "output_type": "stream",
     "text": [
      "36    11.98\n",
      "37    11.90\n",
      "Name: cum_conv, dtype: float64\n",
      "20    81492.0\n",
      "21    88352.0\n",
      "Name: cum_mean_check, dtype: float64\n"
     ]
    }
   ],
   "source": [
    "# Вычисляем кумулятивную сумму по посещениям, продажам и цене, сгруппировав данные по группам\n",
    "daily_data['cum_cnt_visits'] = daily_data.groupby(['group'])['count_visits'].cumsum()\n",
    "daily_data['cum_cnt_purchases'] = daily_data.groupby(['group'])['count_purchases'].cumsum()\n",
    "daily_data['cum_sum_price'] = daily_data.groupby(['group'])['sum_price'].cumsum()\n",
    "\n",
    "# Вычисляем кумулятивную конверсию и средний чек на основе полученных кумулятивных показателей\n",
    "daily_data['cum_conv'] = daily_data['cum_cnt_purchases'] / daily_data['cum_cnt_visits']*100\n",
    "daily_data['cum_mean_check'] = daily_data['cum_sum_price'] / daily_data['cum_cnt_purchases']"
   ]
  },
  {
   "attachments": {},
   "cell_type": "markdown",
   "id": "c252b8ba-371b-4795-8fc3-a62317e9ba39",
   "metadata": {},
   "source": [
    "Построим **кумулятивные** графики **конверсии** и **среднего чека** в каждой группе по дням и попробуем сделать некоторые выводы, отвечая на вопросы: можно ли назвать **A/B-тест** завершенным - стабилизировались ли значения метрик во времени? Как соотносятся **кумулятивные показатели** в каждой группе?"
   ]
  },
  {
   "cell_type": "code",
   "execution_count": 14,
   "id": "2415bf42",
   "metadata": {},
   "outputs": [
    {
     "data": {
      "image/png": "[encoded data removed]",
      "text/plain": [
       "<Figure size 720x360 with 2 Axes>"
      ]
     },
     "metadata": {
      "needs_background": "light"
     },
     "output_type": "display_data"
    },
    {
     "data": {
      "image/png": "[encoded data removed]",
      "text/plain": [
       "<Figure size 720x360 with 2 Axes>"
      ]
     },
     "metadata": {
      "needs_background": "light"
     },
     "output_type": "display_data"
    }
   ],
   "source": [
    "# Построим линейные графики ежедневных конферсии и среднего чека для последующего сравнения с кумулятивной метриками\n",
    "# Создаём 2 графика\n",
    "fig, ax = plt.subplots(2, 1, figsize=(10, 5), sharex=True)\n",
    "\n",
    "# Линейные графики ежедневных конферсии и среднего чека\n",
    "sns.lineplot(data=daily_data, x='date', y='conversion', hue='group', ax=ax[0])\n",
    "sns.lineplot(data=daily_data, x='date', y='mean_check', hue='group', ax=ax[1])\n",
    "\n",
    "# Добавляем атрибуты на графики\n",
    "ax[0].set_title('Ежедневная конверсия')\n",
    "ax[0].grid()\n",
    "ax[1].set_title('Средний чек по дням')\n",
    "ax[1].grid()\n",
    "\n",
    "# Разводим графики друг от друга\n",
    "fig.tight_layout()\n",
    "\n",
    "\n",
    "# Линейные графики с кумулятивными метриками конверсии и среднего чека\n",
    "fig, ax = plt.subplots(2, 1, figsize=(10, 5), sharex=True)\n",
    "\n",
    "sns.lineplot(data=daily_data, x='date', y='cum_conv', hue='group', ax=ax[0])\n",
    "sns.lineplot(data=daily_data, x='date', y='cum_mean_check', hue='group', ax=ax[1])\n",
    "\n",
    "# Добавляем атрибуты на графики\n",
    "ax[0].set_title('Ежедневная кумулятивная конверсия')\n",
    "ax[0].grid()\n",
    "ax[1].set_title('Кумулятивный средний чек по дням')\n",
    "ax[1].grid()\n",
    "\n",
    "fig.tight_layout();"
   ]
  },
  {
   "attachments": {},
   "cell_type": "markdown",
   "id": "f645f8e5-ad16-4b3b-8228-fbdeeb286833",
   "metadata": {},
   "source": [
    "После обработки данных кумулятивной функцией можно заметить, что метрики <u>стабилизировались</u>. Но о завершении тестирования говорить пока рано, так как **кумулятивные метрики** показывают <u>противоположные</u> результаты и необходимо провести *статистические тесты*. Ежедневная **кумулятивная конверсия** *группы А* примерно с 10 января стала немного <u>выше</u> *группы В*. Ежедневный **кумулятивный средний чек** показывает обратную ситуацию. В *группе В* эта метрика явно <u>выше</u>, чем в *группе А* на всём протяжении тестирования."
   ]
  },
  {
   "attachments": {},
   "cell_type": "markdown",
   "id": "12de66b4",
   "metadata": {},
   "source": [
    "## <center> 4. Статистический анализ результатов A/B-тестирования"
   ]
  },
  {
   "attachments": {},
   "cell_type": "markdown",
   "id": "2ecaa382-56e2-47f4-b086-24b4742570a3",
   "metadata": {
    "tags": []
   },
   "source": [
    "Настало время переходить к проверке *статистической значимости* разницы между метриками в группах. Начнем с **конверсии**.\n",
    "\n",
    "#### <center> **Статистический тест на конверсию**\n",
    "\n",
    "Для проверки гипотезы о равенстве конверсий в группах мы применим **z-тест для пропорций**, так как он рассчитан на определение различия числовой метрики двух распределений, в том числе при больших выборках.\n",
    "\n",
    "Проведём тестирование при следующих нулевой и альтернативной гипотезе:\n",
    "* $H_0$: Конверсии в группах А и B равны; \n",
    "* $H_1$: Конверсия в группе А больше чем конверсия в группе B;\n",
    "\n",
    "Вычислим *p-value* **z-теста** для конверсий в группах А и B. Сравним полученное значение *p-value* с уровнем значимости $\\alpha$=0.05. "
   ]
  },
  {
   "cell_type": "code",
   "execution_count": 15,
   "id": "63fd494a",
   "metadata": {},
   "outputs": [
    {
     "name": "stdout",
     "output_type": "stream",
     "text": [
      "p-value:  0.12\n",
      "Принимаем нулевую гипотезу. Конверсии в группах А и B равны\n"
     ]
    }
   ],
   "source": [
    "converted_piv = updated_data.groupby(['group'])['purchase'].agg(['count', 'sum'])\n",
    "\n",
    "# Нулевая и альтернативная гипотезы\n",
    "H0 = 'Конверсии в группах А и B равны'\n",
    "H1 = 'Конверсия в группе А выше, чем конверсия в группе B'\n",
    "alpha = 0.05 # уровень значимости\n",
    "\n",
    "# Вычисляем значение p-value для z-теста для пропорций\n",
    "_, p_value = proportions_ztest(\n",
    "    count=converted_piv['sum'], # число \"успехов\"\n",
    "    nobs=converted_piv['count'], # общее число наблюдений\n",
    "    alternative='larger' # правосторонняя гипотеза\n",
    ")\n",
    "# Выводим результат на экран\n",
    "print('p-value: ', round(p_value, 2))\n",
    "\n",
    "# Сравниваем полученное p-value с уровнем значимости\n",
    "if (p_value < alpha): \n",
    "    print(\"Отвергаем нулевую гипотезу. {}\".format(H0))\n",
    "    print(\"Альтернативная гипотеза. H1: {}\".format(H1))\n",
    "else:\n",
    "    print(\"Принимаем нулевую гипотезу. {}\".format(H0))"
   ]
  },
  {
   "attachments": {},
   "cell_type": "markdown",
   "id": "75dddb06-389d-4d65-92c7-425efa28e51a",
   "metadata": {},
   "source": [
    "**Вывод:** результат теста показывает, что **конверсия** в обеих группах определяется как <u>равная</u>. Если и есть какое либо неравенство в точных показателях, то оно не имеет **статистической значимости**.\n",
    "___"
   ]
  },
  {
   "attachments": {},
   "cell_type": "markdown",
   "id": "32c5a1af-8cb2-4f3c-a126-410b70fb3ff3",
   "metadata": {
    "tags": []
   },
   "source": [
    "Далее убедимся в своих рассуждениях, построив 95%-ый **доверительный интервал** для конверсий и разницы между ними. Используем $z_{крит}$ в своих расчетах.\n",
    "\n",
    "Укажем нижнюю и верхнюю границы доверительных интервалов. Границы приведём в процентах и округлим до 2 знака после запятой."
   ]
  },
  {
   "cell_type": "code",
   "execution_count": 16,
   "id": "e9decb7d-ff5e-40a6-8b71-63627c4ef64a",
   "metadata": {},
   "outputs": [
    {
     "name": "stdout",
     "output_type": "stream",
     "text": [
      "Доверительный интервал для конверсии группы А: (11.87, 12.2)\n",
      "Доверительный интервал для конверсии группы B: (11.73, 12.06)\n",
      "Доверительный интервал для разности конверсий: (-0.38, 0.09)\n"
     ]
    }
   ],
   "source": [
    "# Создадим две функции для удобного нахождения доверительных интервалов и разницы между ними\n",
    "def proportions_conf_interval(n, x_p, gamma=0.95):\n",
    "    \"\"\"\n",
    "    Функция нахождения доверительного интервала пропорций.\n",
    "    z критическое при двустороннем рассчёте доверительного интервала.\n",
    "\n",
    "    Args:\n",
    "        n (int): размер выборки\n",
    "        x_p (float): выборочная пропорция\n",
    "        gamma (float, optional): уровень надёжности. Defaults to 0.95.\n",
    "\n",
    "    Returns:\n",
    "        tuple: lower_bound - нижняя граница, upper_bound - верхняя граница\n",
    "    \"\"\"\n",
    "    alpha = 1 - gamma # уровень значимости\n",
    "    z_crit = -norm.ppf(alpha/2) # z критическое\n",
    "    eps = z_crit * (x_p * (1 - x_p) / n) ** 0.5 #погрешность\n",
    "    lower_bound = x_p - eps # нижняя граница\n",
    "    upper_bound = x_p + eps # верхняя граница\n",
    "    # возвращаем кортеж из округлённых границ интервала\n",
    "    return round(lower_bound * 100, 2), round(upper_bound * 100, 2)\n",
    "\n",
    "\n",
    "def diff_proportions_conf_interval(n, x_p, gamma=0.95):\n",
    "    \"\"\"\n",
    "    Функция нахождения разницы между доверительными интервалами.\n",
    "    z критическое при двустороннем рассчёте доверительного интервала.\n",
    "\n",
    "    Args:\n",
    "        n (list > int): список размеров выборок\n",
    "        x_p (list > float): список выборочных пропорций\n",
    "        gamma (float, optional): уровень надёжности. Defaults to 0.95.\n",
    "\n",
    "    Returns:\n",
    "        tuple: lower_bound - нижняя граница разницы,\n",
    "        upper_bound - верхняя граница разницы.\n",
    "    \"\"\"\n",
    "    alpha = 1 - gamma # уровень значимости\n",
    "    diff = x_p[1] - x_p[0] # выборочная разница конверсий групп B и A\n",
    "    z_crit = -norm.ppf(alpha/2) # z критическое\n",
    "    eps = z_crit * (x_p[0] * (1 - x_p[0])/n[0] + x_p[1] * (1 - x_p[1])/n[1]) ** 0.5 # погрешность\n",
    "    lower_bound = diff - eps # нижняя граница\n",
    "    upper_bound = diff + eps # верхняя граница\n",
    "    # возвращаем кортеж из округлённых границ интервала\n",
    "    return round(lower_bound *100, 2), round(upper_bound * 100, 2)\n",
    "\n",
    "\n",
    "# Фильтруем данные по группам\n",
    "data_a = updated_data[updated_data['group'] == 'A']\n",
    "data_b = updated_data[updated_data['group'] == 'B']\n",
    "\n",
    "# Создадим вспомогательные переменные c готовыми данными для применения функций\n",
    "n_a = data_a['purchase'].count() # размер выборки группы А\n",
    "n_b = data_b['purchase'].count() # размер выборки группы В\n",
    "xp_a = data_a['purchase'].mean() # выборочная пропорция группы А\n",
    "xp_b = data_b['purchase'].mean() # выборочная пропорция группы В\n",
    "\n",
    "# Находим доверительные интервалы обеих групп\n",
    "conf_interval_a = proportions_conf_interval(n_a, xp_a)\n",
    "conf_interval_b = proportions_conf_interval(n_b, xp_b)\n",
    "\n",
    "print('Доверительный интервал для конверсии группы А:', conf_interval_a)\n",
    "print('Доверительный интервал для конверсии группы B:', conf_interval_b)\n",
    "\n",
    "# Создаём списки для применения функции разности пропорций\n",
    "n = [n_a, n_b] # Размеры выборок групп А и B\n",
    "x_p = [xp_a, xp_b] # Выборочные пропорции групп A и B\n",
    "\n",
    "# Строим доверительный интервал для разности конверсий\n",
    "diff_inverval = diff_proportions_conf_interval(n, x_p)\n",
    "\n",
    "print('Доверительный интервал для разности конверсий:', diff_inverval)"
   ]
  },
  {
   "attachments": {},
   "cell_type": "markdown",
   "id": "9332372d-66b2-45e9-a74c-f5d8b1d44afb",
   "metadata": {},
   "source": [
    "Проинтерпретируем построенные **доверительные интервалы** для конверсий в группах и подумаем есть ли перекрытие между доверительными интервалами для групп? Есть ли статистическая разница между конверсиями в *группах А и B*?\n",
    "\n",
    "С надёжностью в `95%` **конверсия** *группы А* лежит в интервале от `11.87%` до `12.2%`, а **конверсия** *группы B* лежит в интервале от `11.73%` до `12.06%`. Имеется перекрытие между доверительными интервалами от `11.87%` до `12.06%`. Также, с `95%-ой` надёжностью мы можем сказать, что разница в **конверсии** между *группы А* и *группы В* лежит в интервале от `-0.39%` до `0.08%`. Это значит, что разница в конверсии может быть как <u>положительной</u> так и <u>отрицательной</u>. В таком случае можно считать, что **статистической разницы** в конверсии между группами нет и они являются <u>равнозначными</u>."
   ]
  },
  {
   "attachments": {},
   "cell_type": "markdown",
   "id": "73c54883-b919-4889-bbf2-e1bdeb0b7055",
   "metadata": {},
   "source": [
    "#### <center> **Статистический тест на средний чек**\n",
    "\n",
    "Ранее мы построили таблицу с ежедневными показателями. Теперь она нам снова понадобится, так как нас интересует ежедневный **средний чек**.\n",
    "\n",
    "Проверим гипотезу о нормальности распределения ежедневного среднего чека в каждой из групп тестирования. Лучше всего нам подойдет тест *Шапиро-Уилка*, так как мы имеем <u>малый</u> объём данных.\n",
    "\n",
    "Определение нулевой и альтернативной гипотез:\n",
    "* $H_0$: Распределения в обеих группах нормальные;\n",
    "* $H_1$: Распределение в одной или обеих группах отлично от нормального;\n",
    "\n",
    "Уровень значимости для статистического теста $\\alpha$ =0.05."
   ]
  },
  {
   "cell_type": "code",
   "execution_count": 17,
   "id": "898041ae-de7e-4b74-975e-111d494fbb82",
   "metadata": {},
   "outputs": [
    {
     "name": "stdout",
     "output_type": "stream",
     "text": [
      "p-value группы А 0.25\n",
      "p-value группы B 0.09\n",
      "Принимаем нулевую гипотезу. Распределения в обеих группах нормальные\n"
     ]
    },
    {
     "data": {
      "image/png": "[encoded data removed]",
      "text/plain": [
       "<Figure size 864x288 with 2 Axes>"
      ]
     },
     "metadata": {
      "needs_background": "light"
     },
     "output_type": "display_data"
    }
   ],
   "source": [
    "# Фильтруем данные с ежедневными показателями по группам\n",
    "daily_data_a = daily_data[daily_data['group'] == 'A']\n",
    "daily_data_b = daily_data[daily_data['group'] == 'B']\n",
    "\n",
    "# Создаём 2 графика размером 12x4\n",
    "fig, axes = plt.subplots(1, 2, figsize=(12, 4))\n",
    "\n",
    "# Строим гистограмму  среднего чека ежедневных покупок в каждой группе\n",
    "sns.histplot(data=daily_data_a, x='mean_check', bins=15, kde=True, ax=axes[0])\n",
    "sns.histplot(data=daily_data_b, x='mean_check', bins=15, kde=True, ax=axes[1])\n",
    "\n",
    "# Задаём названия графикам\n",
    "axes[0].set_title('Распределение среднего чека в группе А')\n",
    "axes[1].set_title('Распределение среднего чека в группе B');\n",
    "\n",
    "\n",
    "# Нулевая и альтернативная гипотезы\n",
    "H0 = 'Распределения в обеих группах нормальные'\n",
    "H1 = 'Распределение в одной или обеих группах отлично от нормального'\n",
    "alpha = 0.05 # уровень значимости\n",
    "\n",
    "# Вычисляем результат теста Шапиро-Уилка для выборок\n",
    "_, p_a = shapiro(daily_data_a['mean_check'])\n",
    "_, p_b = shapiro(daily_data_b['mean_check'])\n",
    "\n",
    "# Выводим p-value обеих групп\n",
    "print('p-value группы А', round(p_a, 2))\n",
    "print('p-value группы B', round(p_b, 2))\n",
    "\n",
    "# Cравниваем полученное p-value с уровнем значимости\n",
    "if p_a < alpha or p_b < alpha:\n",
    "    print(\"Отвергаем нулевую гипотезу.\", H0)\n",
    "    print(\"Альтернативная гипотеза. H1:\", H1)\n",
    "else:\n",
    "    print(\"Принимаем нулевую гипотезу.\", H0)"
   ]
  },
  {
   "attachments": {},
   "cell_type": "markdown",
   "id": "84a1aba9",
   "metadata": {},
   "source": [
    "Графики показывают, что распределения похожи на <u>нормальные</u>. Так же тест на нормальность *Шапиро-Уилка* показывает положительный результат."
   ]
  },
  {
   "attachments": {},
   "cell_type": "markdown",
   "id": "cbddecf9-4d15-4ff1-84e9-46c4d98fc1e0",
   "metadata": {
    "tags": []
   },
   "source": [
    "Настало время сравнить варианты дизайна страницы по метрике **среднего чека**. \n",
    "\n",
    "Подберём тест для проверки гипотезы о равенстве средних чеков по дням в группах. Для этого проверим размер выборок. Если менее 30, применим **Т-тест**.\n",
    "\n",
    "Проведём тестирование при следующих нулевой и альтернативной гипотезе:\n",
    "* $H_0$: Ежедневные средние чеки в группах А и B равны; \n",
    "* $H_1$: Ежедневный средний чек в группе А меньше чем в группе B;\n",
    "\n",
    "Вычислим p-value вашего теста для ежедневного среднего чека в группах А и B. Сравним полученное значение p-value с уровнем значимости $\\alpha$ =0.05. "
   ]
  },
  {
   "cell_type": "code",
   "execution_count": 19,
   "id": "05d43f23-2c2d-4795-bb96-1ffbfe81c391",
   "metadata": {},
   "outputs": [
    {
     "name": "stdout",
     "output_type": "stream",
     "text": [
      "True\n",
      "p-value: 0.0\n",
      "Отвергаем нулевую гипотезу: Ежедневные средние чеки в группах А и B равны\n",
      "Принимаем альтернативную гипотезу: Ежедневный средний чек в группе А меньше, чем в группе B\n"
     ]
    }
   ],
   "source": [
    "# Проверяем размер выборки на количество менее 30\n",
    "print('Размер выборок в обеих группах менее 30: ', daily_data_a.shape[0] < 30 and daily_data_b.shape[0] < 30)\n",
    "\n",
    "#  Нулевая и альтернативная гепотезы\n",
    "H0 = 'Ежедневные средние чеки в группах А и B равны'\n",
    "H1 = 'Ежедневный средний чек в группе А меньше, чем в группе B'\n",
    "alpha = 0.05\n",
    "\n",
    "# Вычисляем p-value с помощью Т-теста\n",
    "_, p = ttest_ind(\n",
    "    daily_data_a['mean_check'],\n",
    "    daily_data_b['mean_check'],\n",
    "    alternative='less'\n",
    ")\n",
    "print('p-value:', round(p, 2))\n",
    "\n",
    "if p < alpha:\n",
    "    print('Отвергаем нулевую гипотезу:', H0)\n",
    "    print('Принимаем альтернативную гипотезу:', H1)\n",
    "else:\n",
    "    print('Принимаем нулевую гипотезу:', H0)"
   ]
  },
  {
   "attachments": {},
   "cell_type": "markdown",
   "id": "8534ab25-68b8-48f7-b2c1-ef1b72d8a767",
   "metadata": {},
   "source": [
    " **Выводы** по проведенному статистическому тесту. Есть ли статистическая разница между ежедневными средними чеками в группах А и B?\n",
    "\n",
    " Данные являются *параметрическими*: распределены <u>нормально</u>, тип данных <u>непрерывный</u>. Для сравнения средних чеков ежедневных покупок нам подойдет **Т-тест**, так как размеры выборок <u>менее 30</u>. По результатам теста можем сделать вывод о **статистической значимости** в разнице между ежедневными средними чеками групп. В *группе А* данная метрика <u>меньше</u>, чем в *группе В*.\n",
    " ___"
   ]
  },
  {
   "attachments": {},
   "cell_type": "markdown",
   "id": "5e46c9a6-a943-48b4-ad72-935337469613",
   "metadata": {
    "tags": []
   },
   "source": [
    "Далее построим 95%-ый **доверительный интервал** для среднего чека в каждой группе. Так как выборка ежедневных средних чеков небольшая, используем  $t_{крит}$ в своих расчетах.\n",
    "\n",
    "Укажем нижнюю и верхнюю границу доверительного интервала для истинного среднего чека каждой из групп. Ответ приведём в процентах и округлим до целого."
   ]
  },
  {
   "cell_type": "code",
   "execution_count": 20,
   "id": "480430db-ffae-4aad-8e22-f5c70d4800b8",
   "metadata": {},
   "outputs": [
    {
     "name": "stdout",
     "output_type": "stream",
     "text": [
      "Доверительный интервал группы А: (79630, 82308)\n",
      "Доверительный интервал группы B: (87626, 89526)\n"
     ]
    }
   ],
   "source": [
    "# Создадим функцию нахождения доверительного интервала для среднего значения выборки\n",
    "def mean_conf_interval(n, x_mean, x_std, norm=True, gamma=0.95):\n",
    "    \"\"\"\n",
    "    Функция нахождения доверительного интервала для среднего значения.\n",
    "    z и t критические можно выбирать, исходя из количества выборки.\n",
    "    Рассчитываются для двусторонней альтернативной гипотезы.\n",
    "\n",
    "    Args:\n",
    "        n (int): размер выборки\n",
    "        x_p (float): стандартное отклонение. Может использоваться как истинное так и выборочное.\n",
    "        gamma (float, optional): уровень надёжности. Defaults to 0.95.\n",
    "        norm(bool): выбор критического параметра. True - z-crit, False - t-crit. Defaults to True.\n",
    "\n",
    "    Returns:\n",
    "        tuple: lower_bound - нижняя граница, upper_bound - верхняя граница\n",
    "    \"\"\"\n",
    "    alpha = 1 - gamma # уровень значимости\n",
    "    # Будет ли использоваться z или t критическое\n",
    "    if norm:\n",
    "        crit = -norm.ppf(alpha/2) # z критическое\n",
    "    else:\n",
    "        k = n - 1\n",
    "        crit = -t.ppf(alpha/2, k) # t критическое\n",
    "        \n",
    "    eps = crit * x_std / (n**0.5) # погрешность\n",
    "    lower_bound = x_mean - eps # нижняя граница\n",
    "    upper_bound = x_mean + eps # верхняя граница\n",
    "    # возвращаем кортеж из округлённых границ интервала\n",
    "    return round(lower_bound), round(upper_bound)\n",
    "\n",
    "\n",
    "# Параметры для группы А\n",
    "n = daily_data_a['mean_check'].count()\n",
    "x_std = daily_data_a['mean_check'].std()\n",
    "x_mean = daily_data_a['mean_check'].mean()\n",
    "# Применяем функцию\n",
    "conf_interval_a = mean_conf_interval(n, x_mean, x_std, norm=False)\n",
    "print('Доверительный интервал группы А:', conf_interval_a)\n",
    "\n",
    "# Параметры для группы В\n",
    "n = daily_data_b['mean_check'].count()\n",
    "x_std = daily_data_b['mean_check'].std()\n",
    "x_mean = daily_data_b['mean_check'].mean()\n",
    "# Применяем функцию\n",
    "conf_interval_b = mean_conf_interval(n, x_mean, x_std, norm=False)\n",
    "print('Доверительный интервал группы B:', conf_interval_b)"
   ]
  },
  {
   "attachments": {},
   "cell_type": "markdown",
   "id": "74a78db8-48f7-41d2-94cb-faefb30b8f76",
   "metadata": {},
   "source": [
    "Проинтерпретируем построенные доверительные интервалы для ежедневных средних чеков в группах. Посмотрим есть ли между ними пересечения?\n",
    "\n",
    "С уверенностью в `95%` можно утверждать, что **математическое ожидание** в *группе А* находится в интервале от `79630` до `82308` тыс. руб., а в *группе В* от `87626` до `89526` тыс. руб. Верхняя граница доверительного интервала *группы А* <u>ниже</u>, чем нижняя граница интервала *группы В*. Это означает, что пересечений между интервалами групп <u>нет</u>."
   ]
  },
  {
   "attachments": {},
   "cell_type": "markdown",
   "id": "c078852f-892f-42ed-8d78-73edf8eb1f5e",
   "metadata": {
    "tags": []
   },
   "source": [
    "## <center> 5. Общий вывод по результатам A/B-теста"
   ]
  },
  {
   "attachments": {},
   "cell_type": "markdown",
   "id": "a697e2bb",
   "metadata": {},
   "source": [
    "В итоге нам необходимо ответить на главные вопросы поставленной задачи: какой вариант дизайна посадочной страницы является более эффективным в комплексе по метрикам конверсии и среднего чека и почему? \n",
    "\n",
    "*По результатам всего **А/В тестирования** и его анализа можно заключить, что вариант дизайна посадочной страницы, используемый в *группе В*, будет более <u>эффективным</u>. Сравнительные тесты показали, что **конверсия** <u>не имеет</u> разницы между тестируемыми группами, а вот **средний чек** в *группе В* <u>выше</u>, чем в *группе А*. На тепловой карте видно, что соимость тура с максимальным спросом в *группе В* (*Таиланд* (100 000р.) - продано `5227` туров) <u>дороже</u>, чем стоимость самого продаваемого тура в *группе А* (*Турция* (60 000р.) - продано `5271` туров).  \n",
    "В итоге вариант дизайна тестируемой **группы B** будет **рекомендован** к реализации для всех пользователей сайта.*"
   ]
  }
 ],
 "metadata": {
  "kernelspec": {
   "display_name": "Python 3 (ipykernel)",
   "language": "python",
   "name": "python3"
  },
  "language_info": {
   "codemirror_mode": {
    "name": "ipython",
    "version": 3
   },
   "file_extension": ".py",
   "mimetype": "text/x-python",
   "name": "python",
   "nbconvert_exporter": "python",
   "pygments_lexer": "ipython3",
   "version": "3.9.10"
  }
 },
 "nbformat": 4,
 "nbformat_minor": 5
}
